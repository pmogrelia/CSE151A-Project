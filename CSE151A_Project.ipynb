{
  "cells": [
    {
      "cell_type": "markdown",
      "metadata": {
        "id": "AYIJBf74ZduK"
      },
      "source": [
        "# Milestone 2"
      ]
    },
    {
      "cell_type": "markdown",
      "metadata": {},
      "source": [
        "Link to our [ReadME](README.md)"
      ]
    },
    {
      "cell_type": "markdown",
      "metadata": {
        "id": "PxDRjzHuaCox"
      },
      "source": [
        "## Imports"
      ]
    },
    {
      "cell_type": "code",
      "execution_count": null,
      "metadata": {
        "id": "ociYZrm-aIMy"
      },
      "outputs": [],
      "source": [
        "import pandas as pd\n",
        "import numpy as np\n",
        "import matplotlib.pyplot as plt\n",
        "import seaborn as sns\n",
        "import os\n",
        "# import sklearn"
      ]
    },
    {
      "cell_type": "markdown",
      "metadata": {
        "id": "i2ZNXqCFaA0s"
      },
      "source": [
        "## Load data"
      ]
    },
    {
      "cell_type": "code",
      "execution_count": null,
      "metadata": {
        "colab": {
          "base_uri": "https://localhost:8080/",
          "height": 443
        },
        "id": "znScIH6naVm2",
        "outputId": "53aa8610-95bb-4d2d-f188-b9331039a6bc"
      },
      "outputs": [],
      "source": [
        "# Use this path if you aren't using colab:\n",
        "# base_path = './detection+of+iot+botnet+attacks+n+baiot/'\n",
        "base_path = 'data/'\n",
        "\n",
        "folders = ['SimpleHome_XCS7_1003_WHT_Security_Camera', 'SimpleHome_XCS7_1002_WHT_Security_Camera', 'Samsung_SNH_1011_N_Webcam', 'Provision_PT_838_Security_Camera', 'Provision_PT_737E_Security_Camera', 'Philips_B120N10_Baby_Monitor', 'Ennio_Doorbell', 'Ecobee_Thermostat', 'Danmini_Doorbell']\n",
        "\n",
        "# 1. Load benign traffic\n",
        "benign_traffic = pd.DataFrame()\n",
        "for folder in folders:\n",
        "  curr_csv = pd.read_csv(base_path + folder + '/benign_traffic.csv')\n",
        "  curr_csv['Device'] = folder\n",
        "  benign_traffic = pd.concat([benign_traffic, curr_csv])\n",
        "# benign_traffic1 = pd.read_csv(base_path + 'SimpleHome_XCS7_1003_WHT_Security_Camera/benign_traffic.csv')\n",
        "# benign_traffic2 = pd.read_csv(base_path + 'Samsung_SNH_1011_N_Webcam/benign_traffic.csv')\n",
        "# benign_traffic = pd.concat([benign_traffic1, benign_traffic2])\n",
        "benign_traffic"
      ]
    },
    {
      "cell_type": "code",
      "execution_count": null,
      "metadata": {
        "colab": {
          "base_uri": "https://localhost:8080/"
        },
        "id": "HtL0POhMhzIO",
        "outputId": "b07696ca-71d4-450d-ed22-bfd75515e520"
      },
      "outputs": [],
      "source": [
        "# RUN ONCE FOR EXTRACTION below are prereqs\n",
        "# pip install patool\n",
        "# winget install --id 7zip.7zip\n",
        "import patoolib"
      ]
    },
    {
      "cell_type": "code",
      "execution_count": null,
      "metadata": {
        "colab": {
          "base_uri": "https://localhost:8080/"
        },
        "id": "3GNpyJtUkvCf",
        "outputId": "aff3886e-3237-4f2d-9a73-d3c99a0b0723"
      },
      "outputs": [],
      "source": [
        "#RUN ONCE FOR EXTRACTION!!\n",
        "\n",
        "for folder in folders:\n",
        "  gafgyt_path = base_path + folder + \"/gafgyt_attacks.rar\"\n",
        "  mirai_path = base_path + folder + \"/mirai_attacks.rar\"\n",
        "  \n",
        "  if os.path.exists(gafgyt_path):\n",
        "    patoolib.extract_archive(gafgyt_path, outdir=base_path + folder + \"/gafgyt_attacks/\")\n",
        "  \n",
        "  if os.path.exists(mirai_path):\n",
        "    patoolib.extract_archive(mirai_path, outdir=base_path + folder + \"/mirai_attacks/\")\n",
        "\n"
      ]
    },
    {
      "cell_type": "code",
      "execution_count": null,
      "metadata": {
        "colab": {
          "base_uri": "https://localhost:8080/",
          "height": 443
        },
        "id": "75W7y6iOl10W",
        "outputId": "27d5f04a-ae64-4103-bff3-04f4464f51ff"
      },
      "outputs": [],
      "source": [
        "test = pd.read_csv(base_path+folders[2]+'/gafgyt_attacks/junk.csv')\n",
        "test"
      ]
    },
    {
      "cell_type": "code",
      "execution_count": null,
      "metadata": {},
      "outputs": [],
      "source": [
        "# Load ALL attack data from all devices and both attack types\n",
        "\n",
        "# 2. Load attack traffic (gafgyt and mirai)\n",
        "attack_traffic = pd.DataFrame()\n",
        "temp = pd.DataFrame()\n",
        "print(\"Loading attack data...\")\n",
        "for folder in folders:\n",
        "    print(f\"Processing {folder}...\")\n",
        "    temp = pd.DataFrame()\n",
        "    # Check gafgyt attacks folder\n",
        "    gafgyt_folder = base_path + folder + '/gafgyt_attacks/'\n",
        "    if os.path.exists(gafgyt_folder):\n",
        "        gafgyt_files = [f for f in os.listdir(gafgyt_folder) if f.endswith('.csv')]\n",
        "        print(f\"  Found {len(gafgyt_files)} gafgyt CSV files\")\n",
        "        \n",
        "        for csv_filename in gafgyt_files:\n",
        "            csv_file = gafgyt_folder + csv_filename\n",
        "            curr_csv = pd.read_csv(csv_file)\n",
        "            curr_csv['Device'] = folder\n",
        "            curr_csv['Botnet_Type'] = 'gafgyt'\n",
        "            curr_csv['Attack_Type'] = csv_filename\n",
        "            temp = pd.concat([temp, curr_csv])\n",
        "            print(f\"    Added {csv_filename} - {len(curr_csv)} rows\")\n",
        "    \n",
        "    # Check mirai attacks folder  \n",
        "    mirai_folder = base_path + folder + '/mirai_attacks/'\n",
        "    if os.path.exists(mirai_folder):\n",
        "        mirai_files = [f for f in os.listdir(mirai_folder) if f.endswith('.csv')]\n",
        "        print(f\"  Found {len(mirai_files)} mirai CSV files\")\n",
        "        \n",
        "        for csv_filename in mirai_files:\n",
        "            csv_file = mirai_folder + csv_filename\n",
        "            curr_csv = pd.read_csv(csv_file)\n",
        "            curr_csv['Device'] = folder\n",
        "            curr_csv['Botnet_Type'] = 'mirai'\n",
        "            curr_csv['Attack_Type'] = csv_filename\n",
        "            temp = pd.concat([temp, curr_csv])\n",
        "            print(f\"    Added {csv_filename} - {len(curr_csv)} rows\")\n",
        "    attack_traffic = pd.concat([attack_traffic, temp])\n",
        "print(f\"\\nTotal attack traffic loaded: {len(attack_traffic)} rows\")\n",
        "attack_traffic.head() if len(attack_traffic) > 0 else print(\"No attack data found\")"
      ]
    },
    {
      "cell_type": "code",
      "execution_count": null,
      "metadata": {},
      "outputs": [],
      "source": [
        "# Add binary classification labels (0 = benign, 1 = attack) and merge datasets\n",
        "\n",
        "print(\"Adding binary classification labels...\")\n",
        "\n",
        "# Add labels to benign traffic (0 = benign)\n",
        "benign_traffic['is_attack'] = 0\n",
        "benign_traffic['Botnet_Type'] = \"Benign\"\n",
        "benign_traffic['Attack_Type'] = \"Benign\"\n",
        "\n",
        "print(f\"Benign traffic: {len(benign_traffic)} rows with label 0\")\n",
        "\n",
        "# Add labels to attack traffic (1 = attack)\n",
        "if len(attack_traffic) > 0:\n",
        "    attack_traffic['is_attack'] = 1\n",
        "    print(f\"Attack traffic: {len(attack_traffic)} rows with label 1\")\n",
        "    \n",
        "    # Print shapes before merging\n",
        "    print(f\"\\nDataframe shapes before merging:\")\n",
        "    print(f\"  Benign traffic shape: {benign_traffic.shape}\")\n",
        "    print(f\"  Attack traffic shape: {attack_traffic.shape}\")\n",
        "    \n",
        "    # Merge all data into one big dataset\n",
        "    print(\"\\nMerging benign and attack data...\")\n",
        "    complete_dataset = pd.concat([benign_traffic, attack_traffic], ignore_index=True)\n",
        "    \n",
        "else:\n",
        "    print(\"No attack data found, using only benign data\")\n",
        "    complete_dataset = benign_traffic\n",
        "\n",
        "print(f\"Total rows: {len(complete_dataset):,}\")\n",
        "print(f\"Features: {len(complete_dataset.columns) - 2} (excluding Device, is_attack)\")\n",
        "\n",
        "\n",
        "# Checking for missing values\n",
        "missing_values = complete_dataset.isnull().sum()\n",
        "print(f\"\\nMissing values in each column:\")\n",
        "print(missing_values[missing_values > 0])\n",
        "\n",
        "print(f\"   Shape: {complete_dataset.shape}\")\n",
        "\n",
        "complete_dataset.head()"
      ]
    },
    {
      "cell_type": "markdown",
      "metadata": {
        "id": "IxO9-EwgZsYp"
      },
      "source": [
        "Load your dataset (change path if needed)"
      ]
    },
    {
      "cell_type": "code",
      "execution_count": null,
      "metadata": {},
      "outputs": [],
      "source": [
        "df = complete_dataset\n",
        "\n",
        "def infer_scale(series: pd.Series) -> str:\n",
        "    if series.dtype == \"object\" or series.dtype.name == \"category\":\n",
        "        return \"Nominal\"\n",
        "    if pd.api.types.is_bool_dtype(series):\n",
        "        return \"Binary (Nominal)\"\n",
        "    if pd.api.types.is_integer_dtype(series):\n",
        "        if series.nunique() < 20:   # few integer levels → ordinal codes\n",
        "            return \"Ordinal\"\n",
        "        return \"Ratio\"\n",
        "    if pd.api.types.is_float_dtype(series):\n",
        "        if (series.min(skipna=True) >= 0) and (series == 0).any():\n",
        "            return \"Ratio\"\n",
        "        return \"Interval\"\n",
        "    return \"Unknown\"\n",
        "\n",
        "summary = []\n",
        "for col in df.columns:\n",
        "    summary.append({\n",
        "        \"Column\": col,\n",
        "        \"dtype\": str(df[col].dtype),\n",
        "        \"Unique\": df[col].nunique(),\n",
        "        \"Scale\": infer_scale(df[col])\n",
        "    })\n",
        "\n",
        "scales_df = pd.DataFrame(summary)\n",
        "print(scales_df)\n"
      ]
    },
    {
      "cell_type": "code",
      "execution_count": null,
      "metadata": {},
      "outputs": [],
      "source": [
        "num_duplicates = df.duplicated().sum()\n",
        "print(f\"Number of duplicate rows: {num_duplicates}\")"
      ]
    },
    {
      "cell_type": "code",
      "execution_count": null,
      "metadata": {},
      "outputs": [],
      "source": [
        "counts = [attack_traffic.shape[0], benign_traffic.shape[0]]\n",
        "fig, axes = plt.subplots(2, 2, figsize=(10,5))\n",
        "\n",
        "axes[0][0].pie(counts, labels=[\"Attack\", \"Benign\"], autopct=\"%1.1f%%\", startangle=90)\n",
        "axes[0][0].set_title(\"Benign vs Attack Distribution\")\n",
        "\n",
        "\n",
        "counts = attack_traffic[\"Botnet_Type\"].value_counts()\n",
        "axes[0][1].pie(counts, labels=counts.index, autopct=\"%1.1f%%\", startangle=90)\n",
        "axes[0][1].set_title(\"Botnet_Type Distribution\")\n",
        "\n",
        "counts = attack_traffic[attack_traffic.Botnet_Type == 'mirai'][\"Attack_Type\"].value_counts()\n",
        "axes[1][0].pie(counts, labels=counts.index, autopct=\"%1.1f%%\", startangle=90)\n",
        "axes[1][0].set_title(\"Attack_Type Distribution for Mirai\")\n",
        "\n",
        "counts = attack_traffic[attack_traffic.Botnet_Type == 'gafgyt'][\"Attack_Type\"].value_counts()\n",
        "axes[1][1].pie(counts, labels=counts.index, autopct=\"%1.1f%%\", startangle=90)\n",
        "axes[1][1].set_title(\"Attack_Type Distribution for BASHLITE\")\n",
        "plt.show()"
      ]
    },
    {
      "cell_type": "code",
      "execution_count": null,
      "metadata": {},
      "outputs": [],
      "source": [
        "num = df.select_dtypes(include=\"number\")\n",
        "corr = num.corr()\n",
        "mask = np.triu(np.ones_like(corr, dtype=bool))\n",
        "plt.figure(figsize=(12,10))\n",
        "sns.heatmap(corr, mask=mask, cmap=\"coolwarm\", center=0)\n",
        "plt.title(\"Correlation heatmap - lower triangle\")\n",
        "plt.tight_layout(); \n",
        "plt.show()"
      ]
    }
  ],
  "metadata": {
    "colab": {
      "provenance": []
    },
    "kernelspec": {
      "display_name": "Python 3",
      "language": "python",
      "name": "python3"
    },
    "language_info": {
      "codemirror_mode": {
        "name": "ipython",
        "version": 3
      },
      "file_extension": ".py",
      "mimetype": "text/x-python",
      "name": "python",
      "nbconvert_exporter": "python",
      "pygments_lexer": "ipython3",
      "version": "3.13.7"
    }
  },
  "nbformat": 4,
  "nbformat_minor": 0
}
